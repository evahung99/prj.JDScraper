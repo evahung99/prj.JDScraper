{
 "cells": [
  {
   "cell_type": "markdown",
   "metadata": {},
   "source": [
    "## 如何使用python获取京东商品数据？爬虫傻瓜式入门\n",
    "https://zhuanlan.zhihu.com/p/56441988"
   ]
  },
  {
   "cell_type": "markdown",
   "metadata": {},
   "source": [
    "## 一、认识爬虫\n",
    "\n",
    "## 二、训练爬虫\n",
    "\n",
    "## 三、开始爬虫\n",
    "本章为爬虫入门，所以我们只需要安装几个Python库即可，如下：\n",
    "\n",
    "- requests | pip install requests\n",
    "- bs4 | pip install bs4\n",
    "- lxml | pip install lxml\n",
    "\n",
    "### 3.1、Python之requests库"
   ]
  },
  {
   "cell_type": "code",
   "execution_count": 1,
   "metadata": {},
   "outputs": [],
   "source": [
    "import requests # 导入requests库\n",
    "r = requests.get('https://search.jd.com/Search?keyword=Lenovo&enc=utf-8&wq=Lenovo&pvid=414c4f412d6b40908792068987460b43')"
   ]
  },
  {
   "cell_type": "code",
   "execution_count": 2,
   "metadata": {},
   "outputs": [
    {
     "data": {
      "text/plain": [
       "200"
      ]
     },
     "execution_count": 2,
     "metadata": {},
     "output_type": "execute_result"
    }
   ],
   "source": [
    "r.status_code # 查看访问状态码 200为ok 是成功的"
   ]
  },
  {
   "cell_type": "code",
   "execution_count": 3,
   "metadata": {},
   "outputs": [
    {
     "data": {
      "text/plain": [
       "{'Date': 'Wed, 12 Feb 2020 05:49:44 GMT', 'Content-Type': 'text/html; charset=UTF-8', 'Transfer-Encoding': 'chunked', 'Connection': 'close', 'Vary': 'Accept-Encoding', 'Content-Encoding': 'gzip', 'Server': 'jfe', 'Strict-Transport-Security': 'max-age=7776000'}"
      ]
     },
     "execution_count": 3,
     "metadata": {},
     "output_type": "execute_result"
    }
   ],
   "source": [
    "r.headers # 查看响应头部"
   ]
  },
  {
   "cell_type": "code",
   "execution_count": 4,
   "metadata": {},
   "outputs": [
    {
     "data": {
      "text/plain": [
       "{'User-Agent': 'python-requests/2.22.0', 'Accept-Encoding': 'gzip, deflate', 'Accept': '*/*', 'Connection': 'keep-alive'}"
      ]
     },
     "execution_count": 4,
     "metadata": {},
     "output_type": "execute_result"
    }
   ],
   "source": [
    "r.request.headers # 请求头"
   ]
  },
  {
   "cell_type": "markdown",
   "metadata": {},
   "source": [
    "### 3.2、Python爬虫利器二之Beautiful Soup的用法"
   ]
  },
  {
   "cell_type": "code",
   "execution_count": 5,
   "metadata": {},
   "outputs": [],
   "source": [
    "#本章内容重点学习find & find_all即可, 案例代码\n",
    "\n",
    "html_doc = \"\"\"\n",
    "\n",
    "<html><head><title>The Dormouse's story</title></head>\n",
    "\n",
    "<p class=\"title\"><b>The Dormouse's story</b></p>\n",
    "\n",
    "<p class=\"story\">Once upon a time there were three little sisters; and their names were\n",
    "\n",
    "<a href=\"http://example.com/elsie\" class=\"sister\" id=\"link1\">Elsie</a>,\n",
    "\n",
    "<a href=\"http://example.com/lacie\" class=\"sister\" id=\"link2\">Lacie</a> and\n",
    "\n",
    "<a href=\"http://example.com/tillie\" class=\"sister\" id=\"link3\">Tillie</a>;\n",
    "\n",
    "and they lived at the bottom of a well.</p>\n",
    "\n",
    "<p class=\"story\">...</p>\n",
    "\n",
    "\"\"\""
   ]
  },
  {
   "cell_type": "code",
   "execution_count": 6,
   "metadata": {},
   "outputs": [
    {
     "name": "stdout",
     "output_type": "stream",
     "text": [
      "[<title>The Dormouse's story</title>]\n"
     ]
    }
   ],
   "source": [
    "# 查找所有关于title标签\n",
    "from bs4 import BeautifulSoup\n",
    "soup = BeautifulSoup(html_doc, 'lxml')\n",
    "title = soup.find_all('title')\n",
    "print(title)"
   ]
  },
  {
   "cell_type": "code",
   "execution_count": 7,
   "metadata": {},
   "outputs": [
    {
     "name": "stdout",
     "output_type": "stream",
     "text": [
      "[<p class=\"title\"><b>The Dormouse's story</b></p>, <p class=\"story\">Once upon a time there were three little sisters; and their names were\n",
      "\n",
      "<a class=\"sister\" href=\"http://example.com/elsie\" id=\"link1\">Elsie</a>,\n",
      "\n",
      "<a class=\"sister\" href=\"http://example.com/lacie\" id=\"link2\">Lacie</a> and\n",
      "\n",
      "<a class=\"sister\" href=\"http://example.com/tillie\" id=\"link3\">Tillie</a>;\n",
      "\n",
      "and they lived at the bottom of a well.</p>, <p class=\"story\">...</p>]\n"
     ]
    }
   ],
   "source": [
    "# 查找所有的p标签\n",
    "from bs4 import BeautifulSoup\n",
    "soup = BeautifulSoup(html_doc, 'lxml')\n",
    "p = soup.find_all('p')\n",
    "print(p)"
   ]
  },
  {
   "cell_type": "code",
   "execution_count": 8,
   "metadata": {},
   "outputs": [
    {
     "name": "stdout",
     "output_type": "stream",
     "text": [
      "[<p class=\"title\"><b>The Dormouse's story</b></p>]\n"
     ]
    }
   ],
   "source": [
    "# 查找p标签中的title\n",
    "from bs4 import BeautifulSoup\n",
    "soup = BeautifulSoup(html_doc, 'lxml')\n",
    "p = soup.find_all('p', 'title')\n",
    "print(p)"
   ]
  },
  {
   "cell_type": "code",
   "execution_count": 9,
   "metadata": {},
   "outputs": [
    {
     "name": "stdout",
     "output_type": "stream",
     "text": [
      "[<a class=\"sister\" href=\"http://example.com/elsie\" id=\"link1\">Elsie</a>, <a class=\"sister\" href=\"http://example.com/lacie\" id=\"link2\">Lacie</a>, <a class=\"sister\" href=\"http://example.com/tillie\" id=\"link3\">Tillie</a>]\n"
     ]
    }
   ],
   "source": [
    "# 查找a标签\n",
    "from bs4 import BeautifulSoup\n",
    "soup = BeautifulSoup(html_doc, 'lxml')\n",
    "a = soup.find_all('a')\n",
    "print(a)"
   ]
  },
  {
   "cell_type": "code",
   "execution_count": 10,
   "metadata": {},
   "outputs": [
    {
     "name": "stdout",
     "output_type": "stream",
     "text": [
      "[<a class=\"sister\" href=\"http://example.com/lacie\" id=\"link2\">Lacie</a>]\n"
     ]
    }
   ],
   "source": [
    "# 查找id=\"link2\"标签\n",
    "from bs4 import BeautifulSoup\n",
    "soup = BeautifulSoup(html_doc, 'lxml')\n",
    "link = soup.find_all(id=\"link2\")\n",
    "print(link)"
   ]
  },
  {
   "cell_type": "code",
   "execution_count": 11,
   "metadata": {},
   "outputs": [
    {
     "name": "stdout",
     "output_type": "stream",
     "text": [
      "[<a class=\"sister\" href=\"http://example.com/elsie\" id=\"link1\">Elsie</a>, <a class=\"sister\" href=\"http://example.com/lacie\" id=\"link2\">Lacie</a>, <a class=\"sister\" href=\"http://example.com/tillie\" id=\"link3\">Tillie</a>]\n"
     ]
    }
   ],
   "source": [
    "# 查找所包含id属性的tag\n",
    "from bs4 import BeautifulSoup\n",
    "soup = BeautifulSoup(html_doc, 'lxml')\n",
    "link = soup.find_all(id=True)\n",
    "print(link)"
   ]
  },
  {
   "cell_type": "code",
   "execution_count": 12,
   "metadata": {},
   "outputs": [
    {
     "name": "stdout",
     "output_type": "stream",
     "text": [
      "[<a class=\"sister\" href=\"http://example.com/lacie\" id=\"link2\">Lacie</a>]\n"
     ]
    }
   ],
   "source": [
    "# 使用多个指定名字的参数可以同时过滤tag的多个属性:\n",
    "import re\n",
    "from bs4 import BeautifulSoup\n",
    "soup = BeautifulSoup(html_doc, 'lxml')\n",
    "link = soup.find_all(href=re.compile(\"lacie\"), id=\"link2\")\n",
    "print(link)"
   ]
  },
  {
   "cell_type": "markdown",
   "metadata": {},
   "source": [
    "#### 按CSS搜索\n",
    "\n",
    "按照CSS类名搜索tag的功能非常实用,但标识CSS类名的关键字class在Python中是保留字,使用 class 做参数会导致语法错误.从Beautiful Soup的4.1.1版本开始,可以通过class_ 参数搜索有指定CSS类名的tag。"
   ]
  },
  {
   "cell_type": "code",
   "execution_count": 13,
   "metadata": {},
   "outputs": [
    {
     "name": "stdout",
     "output_type": "stream",
     "text": [
      "<a class=\"sister\" href=\"http://example.com/elsie\" id=\"link1\">Elsie</a>\n"
     ]
    }
   ],
   "source": [
    "import re\n",
    "from bs4 import BeautifulSoup\n",
    "soup = BeautifulSoup(html_doc, 'lxml')\n",
    "CLS = soup.find('a', class_ = \"sister\")\n",
    "print(CLS)"
   ]
  },
  {
   "cell_type": "code",
   "execution_count": 14,
   "metadata": {},
   "outputs": [
    {
     "name": "stdout",
     "output_type": "stream",
     "text": [
      "[<a class=\"sister\" href=\"http://example.com/elsie\" id=\"link1\">Elsie</a>, <a class=\"sister\" href=\"http://example.com/lacie\" id=\"link2\">Lacie</a>, <a class=\"sister\" href=\"http://example.com/tillie\" id=\"link3\">Tillie</a>]\n"
     ]
    }
   ],
   "source": [
    "import re\n",
    "from bs4 import BeautifulSoup\n",
    "soup = BeautifulSoup(html_doc, 'lxml')\n",
    "CLS = soup.find_all('a', class_ = \"sister\")\n",
    "print(CLS)"
   ]
  },
  {
   "cell_type": "code",
   "execution_count": 15,
   "metadata": {},
   "outputs": [
    {
     "name": "stdout",
     "output_type": "stream",
     "text": [
      "<p class=\"title\"><b>The Dormouse's story</b></p>\n"
     ]
    }
   ],
   "source": [
    "# 结合正则查找\n",
    "import re\n",
    "from bs4 import BeautifulSoup\n",
    "soup = BeautifulSoup(html_doc, 'lxml')\n",
    "CLS = soup.find(class_ = re.compile(\"ti\"))\n",
    "print(CLS)"
   ]
  },
  {
   "cell_type": "code",
   "execution_count": 16,
   "metadata": {},
   "outputs": [
    {
     "name": "stdout",
     "output_type": "stream",
     "text": [
      "<p class=\"title\"><b>The Dormouse's story</b></p>\n"
     ]
    }
   ],
   "source": [
    "# 完全匹配 class 的值时,如果CSS类名的顺序与实际不符,将搜索不到结果:\n",
    "import re\n",
    "from bs4 import BeautifulSoup\n",
    "soup = BeautifulSoup(html_doc, 'lxml')\n",
    "CLS = soup.find('p', attrs={'class':'title'})\n",
    "print(CLS)"
   ]
  },
  {
   "cell_type": "markdown",
   "metadata": {},
   "source": [
    "### 3.3、开始正题\n",
    "经过以上的铺垫，现在正式开始写代码，我们需要获取京东的电脑数据，首先我们需要打开京东网站去搜索电脑如下：\n",
    "https://www.jd.com/\n",
    "\n",
    "选择其中一台电脑选择右键检查，此页面中每一台电脑的数据都在< li data-sku >标签中。"
   ]
  },
  {
   "cell_type": "code",
   "execution_count": 17,
   "metadata": {},
   "outputs": [],
   "source": [
    "import re\n",
    "from bs4 import BeautifulSoup\n",
    "\n",
    "jd_Computer_html = \"\"\"\n",
    "<li data-sku=\"100005171461\" class=\"gl-item\">\n",
    "\t<div class=\"gl-i-wrap\">\n",
    "\t\t\t\t\t<div class=\"p-img\">\n",
    "\t\t\t\t\t\t<a target=\"_blank\" title=\"锐龙标压处理器性能更强劲，16G双通道内存响应更快速，超窄边框，“真”全面屏！更多好物\" href=\"//item.jd.com/100005171461.html\" onclick=\"searchlog(1,100005171461,0,2,'','flagsClk=1363153032')\">\n",
    "\t\t\t\t\t\t\t<img width=\"220\" height=\"220\" class=\"\" data-img=\"1\" source-data-lazy-img=\"\" data-lazy-img=\"done\" src=\"//img11.360buyimg.com/n7/jfs/t1/99733/2/8261/174001/5e045083Ec79b2c6e/fac2d957b511c1da.jpg\">\n",
    "</a>\t\t\t\t\t\t<div data-lease=\"\" data-catid=\"672\" data-venid=\"1000000157\" data-presale=\"\" data-done=\"1\"></div>\n",
    "\t\t\t\t\t</div>\n",
    "\t\t\t\t\t<div class=\"p-price\">\n",
    "<strong class=\"J_100005171461\" data-done=\"1\"><em>￥</em><i>4499.00</i></strong>\t\t\t\t\t</div>\n",
    "\t\t\t\t\t<div class=\"p-name p-name-type-2\">\n",
    "\t\t\t\t\t\t<a target=\"_blank\" title=\"锐龙标压处理器性能更强劲，16G双通道内存响应更快速，超窄边框，“真”全面屏！更多好物\" href=\"//item.jd.com/100005171461.html\" onclick=\"searchlog(1,100005171461,0,1,'','flagsClk=1363153032')\">\n",
    "\t\t\t\t\t\t\t<em><img class=\"p-tag3\" src=\"//img14.360buyimg.com/uba/jfs/t6919/268/501386350/1257/92e5fb39/5976fcf9Nd915775f.png\">联想(<font class=\"skcolor_ljg\">Lenovo</font>)小新Pro13.3英寸全面屏超轻薄笔记本电脑(标压锐龙R5-3550H 16G 512G 2.5K QHD 100%sRGB)银</em>\n",
    "\t\t\t\t\t\t\t<i class=\"promo-words\" id=\"J_AD_100005171461\">锐龙标压处理器性能更强劲，16G双通道内存响应更快速，超窄边框，“真”全面屏！更多好物</i>\n",
    "\t\t\t\t\t\t</a>\n",
    "\t\t\t\t\t</div>\n",
    "\t\t\t\t\t<div class=\"p-commit\" data-done=\"1\">\n",
    "\t\t\t\t\t\t<strong><a id=\"J_comment_100005171461\" target=\"_blank\" href=\"//item.jd.com/100005171461.html#comment\" onclick=\"searchlog(1,100005171461,0,3,'','flagsClk=1363153032')\">16万+</a>条评价</strong>\n",
    "\t\t\t\t\t</div>\n",
    "\t\t\t<div class=\"p-shop\" data-dongdong=\"\" data-selfware=\"1\" data-score=\"5\" data-reputation=\"93\" data-done=\"1\">\n",
    "<span class=\"J_im_icon\"><a target=\"_blank\" class=\"curr-shop hd-shopname\" onclick=\"searchlog(1,1000000157,0,58)\" href=\"//mall.jd.com/index-1000000157.html\" title=\"联想电脑京东自营旗舰店\">联想电脑京东自营旗舰店</a><b class=\"im-02\" style=\"background:url(//img14.360buyimg.com/uba/jfs/t26764/156/1205787445/713/9f715eaa/5bc4255bN0776eea6.png) no-repeat;\" title=\"联系客服\" onclick=\"searchlog(1,1000000157,0,61)\"></b></span>\t\t\t\t\t</div>\t\n",
    "\t\t\t\n",
    "\t\t<div class=\"p-icons\" id=\"J_pro_100005171461\" data-done=\"1\">\n",
    "\t\t\t<i class=\"goods-icons J-picon-tips J-picon-fix\" data-idx=\"1\" data-tips=\"京东自营，品质保障\">自营</i>\n",
    "\t\t\t\t\t\t<i class=\"goods-icons4 J-picon-tips J-picon-fix\" data-tips=\"天天低价，正品保证\">秒杀</i>\n",
    "\t\t\t\t\t</div>\n",
    "\t\t\t\t\t<div class=\"p-operate\">\n",
    "\t\t\t\t\t\t<a class=\"p-o-btn contrast J_contrast\" data-sku=\"100005171461\" href=\"javascript:;\" onclick=\"searchlog(1,100005171461,0,6,'','flagsClk=1363153032')\"><i></i>对比</a>\n",
    "\t\t\t\t\t\t<a class=\"p-o-btn focus J_focus\" data-sku=\"100005171461\" href=\"javascript:;\" onclick=\"searchlog(1,100005171461,0,5,'','flagsClk=1363153032')\"><i></i>关注</a>\n",
    "\t\t\t\t\t\t<a class=\"p-o-btn addcart\" href=\"//cart.jd.com/gate.action?pid=100005171461&amp;pcount=1&amp;ptype=1\" target=\"_blank\" onclick=\"searchlog(1,100005171461,0,4,'','flagsClk=1363153032')\" data-limit=\"0\"><i></i>加入购物车</a>\n",
    "\t\t\t\t\t</div>\n",
    "\t</div>\n",
    "</li>\n",
    "\"\"\""
   ]
  },
  {
   "cell_type": "code",
   "execution_count": 18,
   "metadata": {},
   "outputs": [
    {
     "name": "stdout",
     "output_type": "stream",
     "text": [
      "电脑的价格为：4499.00元\n",
      "电脑的名称为：联想(Lenovo)小新Pro13.3英寸全面屏超轻薄笔记本电脑(标压锐龙R5-3550H 16G 512G 2.5K QHD 100%sRGB)银\n"
     ]
    }
   ],
   "source": [
    "soup = BeautifulSoup(jd_Computer_html, \"lxml\")\n",
    "Computer_price = soup.find('div', attrs={'class':'p-price'}).find('i').text\n",
    "print(f\"电脑的价格为：{Computer_price}元\")\n",
    "Computer_name = soup.find('div', attrs={'class':'p-name p-name-type-2'}).find('em').text\n",
    "print(f\"电脑的名称为：{Computer_name}\")"
   ]
  },
  {
   "cell_type": "markdown",
   "metadata": {},
   "source": [
    "#### 获取全部电脑信息"
   ]
  },
  {
   "cell_type": "code",
   "execution_count": 22,
   "metadata": {},
   "outputs": [],
   "source": [
    "#!/usr/bin/env python\n",
    "# -*- coding:utf-8 -*-\n",
    "import re, requests, csv, codecs\n",
    "from requests.exceptions import RequestException\n",
    "from bs4 import BeautifulSoup"
   ]
  },
  {
   "cell_type": "code",
   "execution_count": 23,
   "metadata": {},
   "outputs": [],
   "source": [
    "# 1、要取所有的电脑数据，首先得获得所有电脑的网页源码，以及url地址如下：\n",
    "def download(url, headers, num_retries=3):\n",
    "    print(\"download\", url)\n",
    "    try:\n",
    "        response = requests.get(url, headers=headers)\n",
    "        print(response.status_code)\n",
    "        # 如果相应的状态码为：200 那么return 返回网站源码，如果访问非200则调用重试\n",
    "        if response.status_code == 200:\n",
    "            return response.content\n",
    "        return None\n",
    "    except RequestException as e:\n",
    "        print(e.response)\n",
    "        html = \"\"\n",
    "        if hasattr(e.response, 'status_code'):\n",
    "            code = e.response.status_code\n",
    "            print('error code', code)\n",
    "            if num_retries > 0 and 500 <= code < 600:\n",
    "                html = download(url, headers, num_retries - 1)\n",
    "        else:\n",
    "            code = None\n",
    "    return html"
   ]
  },
  {
   "cell_type": "code",
   "execution_count": null,
   "metadata": {},
   "outputs": [],
   "source": [
    "def find_detail(url):\n",
    "    headers = {\n",
    "    'User-agent': \"Mozilla/5.0 (Windows NT 10.0; Win64; x64) AppleWebKit/537.36 (KHTML, like Gecko) Chrome/80.0.3987.87 Safari/537.36\",\n",
    "    \"referer\": \"https://search.jd.com\"\n",
    "    }\n",
    "    r = download(url, headers)\n",
    "    page = BeautifulSoup(r, \"lxml\")\n",
    "    all_items = page.find_all('li', attrs={'class':'gl-item'})"
   ]
  },
  {
   "cell_type": "code",
   "execution_count": 20,
   "metadata": {},
   "outputs": [],
   "source": [
    "def find_Computer(url, headers):\n",
    "    r = download(url, headers=headers)\n",
    "    # print(r)\n",
    "    # 3、状态码返回200后证明是正常的，将返回的源码通过 BeautifulSoup 生成对象page，\n",
    "    page = BeautifulSoup(r, \"lxml\")\n",
    "    # print(page.prettify())\n",
    "\n",
    "    # 接下来就可以通过page对象对返回的源码进行查找等操作：\n",
    "    all_items = page.find_all('li', attrs={'class':'gl-item'})\n",
    "    \n",
    "    # 末：将数据保存至csv\n",
    "    # 【Python】csv – 中文資料的讀取和寫入, https://kirin.idv.tw/python-csv-chinese-utf8/\n",
    "    # python3.6（以及相关版本，例3.5等）写入以编码为‘utf-8’中文时，虽然读的时候用‘utf-8’打开不影响中文编码，但用excel打开csv文件时，会出现中文乱码问题，因此采用编码为‘utf-8-sig’的方式写入，读文件时可用‘utf-8’打开，也可用‘utf-8-sig’打开。\n",
    "    # 原文链接：https://blog.csdn.net/qq_36512295/article/details/84889426\n",
    "    with open(\"Computer.csv\", 'w', newline='', encoding='utf-8-sig') as f:\n",
    "        writer = csv.writer(f)\n",
    "        fields = ('ID', 'NAME', 'PRICE')\n",
    "        writer.writerow(fields)\n",
    "        # 4、接下来通过for循环将找到的所有电脑源码进行循环。\n",
    "        for all in all_items:\n",
    "            Computer_id = all[\"data-sku\"]\n",
    "            Computer_name = all.find('div', attrs={'class': 'p-name p-name-type-2'}).find('em').text\n",
    "            _price = all.find('div', attrs={'class': 'p-price'}).find('strong')\n",
    "            Computer_price = _price.get('data-price', _price.find('i').text)\n",
    "            commit_url = \"https:\" + all.find('div', attrs={'class': 'p-commit'}).find('a').get('href')\n",
    "            print(f\"ID：{Computer_id}\")\n",
    "            print(f\"Name：{Computer_name}\")\n",
    "            print(f\"href：{commit_url}\")\n",
    "            print(f\"Price：{Computer_price}元\\n\")\n",
    "            row = []\n",
    "            row.append(Computer_id)\n",
    "            row.append(Computer_name)\n",
    "            row.append(str(Computer_price) + \"元\")\n",
    "            writer.writerow(row)"
   ]
  },
  {
   "cell_type": "code",
   "execution_count": 21,
   "metadata": {},
   "outputs": [
    {
     "name": "stdout",
     "output_type": "stream",
     "text": [
      "download https://search.jd.com/Search?keyword=lenovo&enc=utf-8&wq=lenovo&pvid=271f6c114446474f91249bbd788b7090\n",
      "200\n",
      "ID：100005171461\n",
      "Name：联想(Lenovo)小新Pro13.3英寸全面屏超轻薄笔记本电脑(标压锐龙R5-3550H 16G 512G 2.5K QHD 100%sRGB)银\n",
      "href：https://item.jd.com/100005171461.html#comment\n",
      "Price：4499.00元\n",
      "\n",
      "ID：100004286189\n",
      "Name：京品电脑联想(Lenovo)小新Air14英寸 AMD锐龙版(全新12nm)轻薄笔记本电脑(R5-3500U 12G 512G PCIE IPS)轻奢灰\n",
      "href：https://item.jd.com/100004286189.html#comment\n",
      "Price：4299.00元\n",
      "\n",
      "ID：100003688077\n",
      "Name：京品电脑联想(Lenovo)拯救者Y7000P 2019英特尔酷睿i715.6英寸游戏笔记本电脑(i7-9750H 16G 1T SSD GTX1660Ti 144Hz)\n",
      "href：https://item.jd.com/100003688077.html#comment\n",
      "Price：9299.00元\n",
      "\n",
      "ID：60220113212\n",
      "Name：联想（Lenovo）小新Pro13.3英寸轻薄笔记本电脑锐龙R5-3550H 16G 512G固态 高效办公套装\n",
      "href：https://item.jd.com/60220113212.html#comment\n",
      "Price：4766.00元\n",
      "\n",
      "ID：100010756268\n",
      "Name：联想(Lenovo)YOGAS740英特尔酷睿i5 14.0英寸超轻薄笔记本电脑移动超能版(i5-1035G1 8G 512G MX250)深空灰\n",
      "href：https://item.jd.com/100010756268.html#comment\n",
      "Price：5499.00元\n",
      "\n",
      "ID：100004498316\n",
      "Name：联想(Lenovo)小新青春版  英特尔酷睿i7 14英寸 轻薄笔记本电脑(I7-8565U 8G 1T+128G FHD 2G独显)无畏黑\n",
      "href：https://item.jd.com/100004498316.html#comment\n",
      "Price：5799.00元\n",
      "\n",
      "ID：100010370676\n",
      "Name：联想（Lenovo）威6 2020款 英特尔酷睿 i5 14英寸窄边框轻薄笔记本电脑(i5-1035G1 8G 512G PCIE 2G独显 全功能Type-C)相思灰\n",
      "href：https://item.jd.com/100010370676.html#comment\n",
      "Price：4499.00元\n",
      "\n",
      "ID：43693541859\n",
      "Name：联想（Lenovo）小新Air14英寸 轻薄笔记本电脑 灰色 锐龙 R7-2700U 8G 512G SSD\n",
      "href：https://item.jd.com/43693541859.html#comment\n",
      "Price：3799.00元\n",
      "\n",
      "ID：100007539116\n",
      "Name：联想(Lenovo)小新Air14英寸英特尔酷睿i5 超轻薄笔记本电脑(I5-10210U 12G 512G MX250 72％NTSC)轻奢灰\n",
      "href：https://item.jd.com/100007539116.html#comment\n",
      "Price：5499.00元\n",
      "\n",
      "ID：100003383325\n",
      "Name：联想(Lenovo)天逸510S 英特尔酷睿i3 个人商务台式机电脑整机(i3-9100 8G 1T WiFi  三年上门 Win10)21.5英寸\n",
      "href：https://item.jd.com/100003383325.html#comment\n",
      "Price：2899.00元\n",
      "\n",
      "ID：100008492048\n",
      "Name：联想(Lenovo)小新Air15.6英寸 英特尔酷睿i7 超轻薄笔记本电脑(I7-10510U 12G 1TSSD MX250 72%NTSC )轻奢灰\n",
      "href：https://item.jd.com/100008492048.html#comment\n",
      "Price：6799.00元\n",
      "\n",
      "ID：100008535980\n",
      "Name：京品电脑联想(Lenovo)小新Pro13.3英寸 英特尔酷睿i5全面屏超轻薄笔记本电脑(I5-10210U 8G 512G 2.5K QHD100%sRGB)银\n",
      "href：https://item.jd.com/100008535980.html#comment\n",
      "Price：5499.00元\n",
      "\n",
      "ID：100003052985\n",
      "Name：联想(Lenovo)小新14英寸 AMD锐龙版R5（全新12nm）轻薄笔记本电脑(R5-3500U 8G 1TB+256G PCIE IPS)渣渣灰\n",
      "href：https://item.jd.com/100003052985.html#comment\n",
      "Price：3999.00元\n",
      "\n",
      "ID：100005769755\n",
      "Name：联想(Lenovo) LEGION Y9000X 15.6英寸高性能标压轻薄笔记本电脑(i7-9750H 32G 1TSSD FHD)深空灰\n",
      "href：https://item.jd.com/100005769755.html#comment\n",
      "Price：9499.00元\n",
      "\n",
      "ID：100004442453\n",
      "Name：京品电脑联想(Lenovo)YOGA C940 英特尔酷睿i7  14.0英寸超轻薄笔记本电脑(i7-1065G7 16G 1T SSD UHD)深空灰\n",
      "href：https://item.jd.com/100004442453.html#comment\n",
      "Price：10999.00元\n",
      "\n",
      "ID：57773460022\n",
      "Name：联想（Lenovo）小新Air14锐龙版R7笔记本电脑超薄本超级本学生用轻薄女生商务办公游戏超极本 定制丨锐龙7 16G内存 512G固态 荣耀银 2019\n",
      "href：https://item.jd.com/57773460022.html#comment\n",
      "Price：3999.00元\n",
      "\n",
      "ID：100005188049\n",
      "Name：联想（Lenovo）威6 2020款 英特尔酷睿 i5 14英寸窄边框轻薄笔记本电脑(i5-10210U 8G 512G PCIE 2G独显 FHD 全功能Type-C)相思灰\n",
      "href：https://item.jd.com/100005188049.html#comment\n",
      "Price：4599.00元\n",
      "\n",
      "ID：100006498814\n",
      "Name：京品电脑联想(Lenovo)AIO逸 英特尔酷睿i5 微边框一体机台式电脑23.8英寸(六核i5-9400T 8G 512G 2G独显 )黑\n",
      "href：https://item.jd.com/100006498814.html#comment\n",
      "Price：4769.00元\n",
      "\n",
      "ID：100010880906\n",
      "Name：联想(Lenovo) S550 14英寸 AMD锐龙版(全新12nm)轻薄笔记本电脑(R5-3500U 8G 512G PCIE IPS)太空灰\n",
      "href：https://item.jd.com/100010880906.html#comment\n",
      "Price：3799.00元\n",
      "\n",
      "ID：8577742\n",
      "Name：联想（Lenovo）AIO 520 致美一体机台式电脑23.8英寸（AMD A6-9500E 4G 1T WIFI 蓝牙 三年上门 Win10）银\n",
      "href：https://item.jd.com/8577742.html#comment\n",
      "Price：2899.00元\n",
      "\n",
      "ID：57773460021\n",
      "Name：联想（Lenovo）小新Air14锐龙版R7笔记本电脑超薄本超级本学生用轻薄女生商务办公游戏超极本 标配丨锐龙7 8GB内存 512G固态 荣耀银 2019\n",
      "href：https://item.jd.com/57773460021.html#comment\n",
      "Price：3799.00元\n",
      "\n",
      "ID：100009083152\n",
      "Name：京品电脑联想(Lenovo)  Y9000X英特尔酷睿i7 15.6英寸高性能标压轻薄笔记本电脑(i7-9750H 16G 1TSSD FHD)深空灰\n",
      "href：https://item.jd.com/100009083152.html#comment\n",
      "Price：8699.00元\n",
      "\n",
      "ID：100007288862\n",
      "Name：京品电脑联想(Lenovo)拯救者Y7000P 2019英特尔酷睿i7 15.6英寸游戏笔记本电脑(i7-9750H 16G 1TSSD GTX1650 144Hz)\n",
      "href：https://paipai.jd.com/pc/list.html?pid=100007288862\n",
      "Price：8299.00元\n",
      "\n",
      "ID：100005724690\n",
      "Name：京品电脑联想(Lenovo)拯救者Y7000 2019英特尔酷睿i5 15.6英寸游戏笔记本电脑(i5-9300H 8G 512G SSD GTX1050 3G IPS)\n",
      "href：https://paipai.jd.com/pc/list.html?pid=100005724690\n",
      "Price：5699.00元\n",
      "\n",
      "ID：100006581268\n",
      "Name：联想（Lenovo）天逸510S 英特尔酷睿i5 个人商务台式电脑整机（I5-9400 8G 1T WiFi Win10 ）21.5英寸\n",
      "href：https://item.jd.com/100006581268.html#comment\n",
      "Price：3799.00元\n",
      "\n",
      "ID：100002845047\n",
      "Name：京品电脑联想(Lenovo)小新14英寸 英特尔酷睿i5 轻薄窄边框笔记本电脑(I5-8265U 8G  256G PCIe )渣渣灰\n",
      "href：https://item.jd.com/100002845047.html#comment\n",
      "Price：3799.00元\n",
      "\n",
      "ID：100003150685\n",
      "Name：京品电脑联想(Lenovo)拯救者Y7000 2019英特尔酷睿i715.6英寸游戏笔记本电脑(i7-9750H 8G 1T SSD GTX1650 72%NTSC)\n",
      "href：https://paipai.jd.com/pc/list.html?pid=100003150685\n",
      "Price：7599.00元\n",
      "\n",
      "ID：1337248\n",
      "Name：联想（Lenovo）鼠标有线鼠标 办公鼠标 联想大红点M120Pro有线鼠标 笔记本台式机鼠标 京东自营\n",
      "href：https://item.jd.com/1337248.html#comment\n",
      "Price：29.00元\n",
      "\n",
      "ID：100003335145\n",
      "Name：京品电脑联想（Lenovo）威6 Pro 英特尔酷睿 i5 13.3英寸轻薄窄边框笔记本电脑(i5-8265U 8G 512GSSD 2G独显 100%sRGB 一键开机登录 Type-C 两年上门)太空灰\n",
      "href：https://item.jd.com/100003335145.html#comment\n",
      "Price：4699.00元\n",
      "\n",
      "ID：100006037588\n",
      "Name：联想(Lenovo)拯救者Y7000 2019英特尔酷睿i515.6英寸游戏笔记本电脑(i5-9300H8G 512G SSD 1660Ti 72%NTSC)\n",
      "href：https://paipai.jd.com/pc/list.html?pid=100006037588\n",
      "Price：7299.00元\n",
      "\n"
     ]
    }
   ],
   "source": [
    "def main():\n",
    "    headers = {\n",
    "    'User-agent': \"Mozilla/5.0 (Windows NT 10.0; Win64; x64) AppleWebKit/537.36 (KHTML, like Gecko) Chrome/80.0.3987.87 Safari/537.36\",\n",
    "    \"referer\": \"https://search.jd.com\"\n",
    "    }\n",
    "    \n",
    "    URL=\"https://search.jd.com/Search?keyword=lenovo&enc=utf-8&wq=lenovo&pvid=271f6c114446474f91249bbd788b7090\"\n",
    "    find_Computer(URL, headers=headers)\n",
    "\n",
    "if __name__ == '__main__':\n",
    "    main()"
   ]
  },
  {
   "cell_type": "code",
   "execution_count": null,
   "metadata": {},
   "outputs": [],
   "source": []
  }
 ],
 "metadata": {
  "kernelspec": {
   "display_name": "Python 3",
   "language": "python",
   "name": "python3"
  },
  "language_info": {
   "codemirror_mode": {
    "name": "ipython",
    "version": 3
   },
   "file_extension": ".py",
   "mimetype": "text/x-python",
   "name": "python",
   "nbconvert_exporter": "python",
   "pygments_lexer": "ipython3",
   "version": "3.7.4"
  }
 },
 "nbformat": 4,
 "nbformat_minor": 2
}
