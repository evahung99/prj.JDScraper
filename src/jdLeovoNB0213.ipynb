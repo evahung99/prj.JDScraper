{
 "cells": [
  {
   "cell_type": "markdown",
   "metadata": {},
   "source": [
    "## ***爬取京东商品评价\n",
    "https://blog.csdn.net/cabigge_bear/article/details/100119106\n",
    "\n",
    "### Python爬虫：爬取京东商品评论(处理json) urllib3+bs4+sqlite3\n",
    "https://blog.csdn.net/qq_39192827/article/details/86747053"
   ]
  },
  {
   "cell_type": "markdown",
   "metadata": {},
   "source": [
    "### **ModuleNotFoundError: No module named 'fake_useragent'\n",
    "- https://blog.csdn.net/weixin_42201745/article/details/80350831\n",
    "\n",
    "打开cmd命令行，不用进入python（我开始直接进入了python，所以也没有成功安装），直接在上面写入就可以安装上fake-useragent库了：\n",
    "> pip install fake-useragent"
   ]
  },
  {
   "cell_type": "code",
   "execution_count": 1,
   "metadata": {},
   "outputs": [],
   "source": [
    "#!/usr/bin/env python\n",
    "# -*- coding:utf-8 -*-\n",
    "import re, requests, csv, codecs, json\n",
    "from requests.exceptions import RequestException\n",
    "from bs4 import BeautifulSoup\n",
    "from urllib.parse import urlencode"
   ]
  },
  {
   "cell_type": "code",
   "execution_count": 2,
   "metadata": {},
   "outputs": [
    {
     "name": "stdout",
     "output_type": "stream",
     "text": [
      "200\n"
     ]
    }
   ],
   "source": [
    "# code for test\n",
    "url = 'https://sclub.jd.com/comment/productPageComments.action?productId=100005171461&score=0&sortType=5&page=0&pageSize=10&isShadowSku=0&fold=1'\n",
    "headers = {\n",
    "    'user-agent':'Mozilla/5.0 (Windows NT 10.0; WOW64) AppleWebKit/537.36 (KHTML, like Gecko) Chrome/65.0.3325.181 Safari/537.36',\n",
    "    'referer':'https://item.jd.com/100005171461.html'\n",
    "}\n",
    "res = requests.get(url, headers=headers)\n",
    "print(res.status_code)  # 返回的状态码是200\n",
    "#print(res.text) "
   ]
  },
  {
   "cell_type": "code",
   "execution_count": 3,
   "metadata": {},
   "outputs": [],
   "source": [
    "def get_html(pID, page):  # 返回评论真实的网页内容\n",
    "    url = f\"https://sclub.jd.com/comment/productPageComments.action?productId={pID}&score=0&sortType=5&page={page}&pageSize=10&isShadowSku=0&fold=1\"\n",
    "    headers = {\n",
    "        'user-agent':'Mozilla/5.0 (Windows NT 10.0; WOW64) AppleWebKit/537.36 (KHTML, like Gecko) Chrome/65.0.3325.181 Safari/537.36',\n",
    "        f'referer':'https://item.jd.com/{pID}.html'\n",
    "    }\n",
    "    res = requests.get(url, headers=headers)\n",
    "    return res.text"
   ]
  },
  {
   "cell_type": "code",
   "execution_count": 4,
   "metadata": {
    "scrolled": false
   },
   "outputs": [
    {
     "name": "stdout",
     "output_type": "stream",
     "text": [
      "京东物流真是太给力了，0点下单的，下午就到了，也太快了，包装很好，很喜欢，颜值很高，电脑很好！\n",
      "首先，这台电脑很轻很薄，很轻巧，可谓是小巧玲珑，非常方便外出携带办公使用！之前自己的电脑非常大，带出去是非常不方便的，这个新买的电脑很小，很好！非常方便携带了！\n",
      "其次，这台电脑的内存是12G+512G的，这个内存是非常够使用的，打游戏，办公都非常合适使用，但是不保证根据自己的需要下载其他自己所需要的应用的，不过应该是够使用的。\n",
      "最后，我发现我之前使用的电脑非常容易发热，这个新买的电脑就不会发热，所以这点是非常喜欢的，很好，非常适合大家使用！\n",
      "综上所述，这个电脑还可以，适合使用！\n",
      "----- ----- -----\n",
      "轻薄程度：用了八佰的活动圏。叟嗦拱 肿号：{沐**沐.省} 领取的。颜色超好看，能对电脑起到很好的保护作用，打字的时候键盘会blingbling(?????)超好看！物流很快，1天就到了。包装也很好，用好多东西包着呢，完全不用担心电脑会受损。颜色很适合美美哒小仙女们，推荐购买！首先，这台电脑很轻很薄很小巧，蛮适合携带的！ 其次，这台电脑的内存是12G+512G的！这个内存是够用的！但是不能完全保证不下载其他的呢！ 除此之外，这台电脑，emm，这家店的所有款式的电脑的硬盘是没有分盘的，只有一个系统C盘！所以只能自己去分盘！而且如果你下载了东西到C盘，是不可以随便删除的！会导致系统崩溃！然后东西，内存占的大了电脑也会卡顿！ 最后，我看到很多人说电脑发热！其实现在看来还好！不容易发热！主要看用的什么软件！如果打游戏的话肯定是很容易发热的！而这款说的是游戏本吧！但是我觉得这款电脑不适合打游戏！内寸不行！散热性或许也不好吧！ 所以，综上所述！这款电脑还行，只是电脑内存我觉得真的不太够！！笔记本性能不错 很流畅 外观设计很漂亮 非常的轻薄体积小方便携带 开机时间短 指纹解锁设计很不错? 大内存 性\n",
      "----- ----- -----\n",
      "轻薄程度：用了八佰的活动***。叟嗦拱 肿号：{***} 领取的。颜色超好看，能对电脑起到很好的保护作用，打字的时候键盘会blingbling(?????)超好看！物流很快，1天就到了。包装也很好，用好多东西包着呢，完全不用担心电脑会受损。颜色很适合美美哒小仙女们，推荐购买！\n",
      "首先，这台电脑很轻很薄很小巧，蛮适合携带的！ 其次，这台电脑的内存是12G+512G的！这个内存是够用的！但是不能完全保证不下载其他的呢！ 除此之外，这台电脑，emm，这家店的所有款式的电脑的硬盘是没有分盘的，只有一个系统C盘！所以只能自己去分盘！而且如果你下载了东西到C盘，是不可以随便删除的！会导致系统崩溃！然后东西，内存占的大了电脑也会卡顿！ 最后，我看到很多人说电脑发热！其实现在看来还好！不容易发热！主要看用的什么软件！如果打游戏的话肯定是很容易发热的！而这款说的是游戏本吧！但是我觉得这款电脑不适合打游戏！内寸不行！散热性或许也不好吧！ 所以，综上所述！这款电脑还行，只是电脑内存我觉得真的不太够！！内存不够就涉及\n",
      "----- ----- -----\n",
      "收到电脑后，真的是迫不及待的打开了。打开后，哇~真的好漂亮啊，犀利的外观给人的第一印象很好，并且电脑很小巧玲珑，很薄很小巧，适合出差或者女生使用的。最惊喜的是电脑内存12G的，12G 天啊，真的够用了，另外搭载了500G固态硬盘，足够用来满足任何数据存储需求。\n",
      "----- ----- -----\n",
      "笔记本性能不错 很流畅 外观设计很漂亮 非常的轻薄体积小方便携带 开机时间短 指纹解锁设计很不错? 大内存 性价比很高 边框小 全金属外壳手感好\n",
      "----- ----- -----\n",
      "运行速度：运行速度快，16g内存，512高速硬盘，杠杠的。\n",
      "屏幕效果：显示出色，细腻，2.5k屏幕，DC调光！\n",
      "散热性能：散热好，风扇声音小。\n",
      "外形外观：外观就是大众化，不错！\n",
      "轻薄程度：很轻薄，方便携带，出差轻便。\n",
      "其他特色：性价比超高，推荐入手。\n",
      "----- ----- -----\n",
      "凌晨下的单，当天就收到了。这电脑又轻，又小，运行速度还很快。人脸识别很实用。键盘有背光，音效很不错。比较完美的一次购物。\n",
      "----- ----- -----\n",
      "屏幕占用率很高，键盘触感舒适，音响感觉很立体，这款在性价比我认为还是很高的，配置和酷睿i5的处理器有的一拼，总之还是很满意的，外形方面，身为女生我觉得还是很好看的，灰色比较高级，主要是小新拿着也太轻薄了吧，喜欢，喜欢\n",
      "----- ----- -----\n",
      "运行速度：最新12G大内存，开机比较快\n",
      "屏幕效果：屏幕清晰，饱和度高，色彩还原度逼真。\n",
      "外形外观：金属机身，设计简约，A面没有过多设计，右下角有联想的LOGO标识，与键盘又下角的LOGO相呼应。屏幕180度开合让用户的适用范围更广一些。\n",
      "轻薄程度：机身轻薄，携带很方便\n",
      "散热性能：温度很低，噪音也很小，在释放性能后温度会到80度，属于一般水平。\n",
      "其他特色：采用AMD-R3500U处理器，性能**，性价比高，续航也不错，充满电可以用8-9小时。\n",
      "----- ----- -----\n",
      "等来了，还有二百的商品卷。便宜了一些，有的问偶吧，这个性价比真是高，我是用来学习办公的，很精致，就是看中了这款的小巧轻薄的，各方面都很好，相信联想老牌子的力量。\n",
      "1.外形外观：外形做的很精致，摸上去很舒服，边框设计的非常窄，看视频很舒服，还支持人脸识别开机解锁，这样就省了很多时间这个特别好用\n",
      "2.运行速度：运行速度没得说，反应很快，锐龙游戏本的处理器，性价比也很高，无论是办公设计图像处理编程还是打游戏看视频都能满足\n",
      "3.屏幕效果：色彩鲜艳，分辨率特别高，有层次感，特别喜欢屏幕的显示效果，屏幕轻薄，但是感觉视野很宽广。\n",
      "4.散热性能：散热效果很好，底座也能吸热，打游戏也不用太担心发烫轻况，平时我剪辑一下视频更没有这种情况发生\n",
      "5.轻薄程度：用过最轻薄的笔记本，携带也不会那么累，办公设计用最合适\n",
      "6.其他情况，依然配有小新专属的R1的智能键盘，经典设计很好的产品体验。\n",
      "----- ----- -----\n"
     ]
    }
   ],
   "source": [
    "# code for test\n",
    "data = json.loads(get_html('100005171461','0'))\n",
    "#print(data)\n",
    "\n",
    "for i in data['comments']:\n",
    "    print(i['content'])\n",
    "    print('----- ----- -----')"
   ]
  },
  {
   "cell_type": "code",
   "execution_count": 13,
   "metadata": {},
   "outputs": [],
   "source": [
    "def get_comment(product_ID):\n",
    "    for p in range(10):\n",
    "        data = json.loads(get_html(product_ID,p)) #'100005171461'\n",
    "        #print(data)\n",
    "        for d in data['comments']:\n",
    "            print(d['content'])\n",
    "            print('----- ----- -----')"
   ]
  },
  {
   "cell_type": "code",
   "execution_count": 6,
   "metadata": {},
   "outputs": [],
   "source": [
    "# 1、要取所有的电脑数据，首先得获得所有电脑的网页源码，以及url地址如下：\n",
    "def download(url, headers, num_retries=3):\n",
    "    print(\"download\", url)\n",
    "    try:\n",
    "        response = requests.get(url, headers=headers)\n",
    "        print(response.status_code)\n",
    "        # 如果相应的状态码为：200 那么return 返回网站源码，如果访问非200则调用重试\n",
    "        if response.status_code == 200:\n",
    "            return response.content\n",
    "        return None\n",
    "    except RequestException as e:\n",
    "        print(e.response)\n",
    "        html = \"\"\n",
    "        if hasattr(e.response, 'status_code'):\n",
    "            code = e.response.status_code\n",
    "            print('error code', code)\n",
    "            if num_retries > 0 and 500 <= code < 600:\n",
    "                html = download(url, headers, num_retries - 1)\n",
    "        else:\n",
    "            code = None\n",
    "    return html"
   ]
  },
  {
   "cell_type": "code",
   "execution_count": 7,
   "metadata": {},
   "outputs": [],
   "source": [
    "def get_json(url):\n",
    "    data = requests.get(url).json()\n",
    "    #print(data)\n",
    "    result = data['CommentsCount']\n",
    "    for i in result:\n",
    "        return i[\"CommentCountStr\"], i[\"GoodRateShow\"]"
   ]
  },
  {
   "cell_type": "code",
   "execution_count": 8,
   "metadata": {},
   "outputs": [],
   "source": [
    "def write_csv(csv_name, data_list):\n",
    "    with open(csv_name, 'w', newline='', encoding='utf-8-sig') as f:\n",
    "        writer = csv.writer(f)\n",
    "        fields = ('ID', 'NAME', 'PRICE(元)', 'Comment#', 'Good Ratio')\n",
    "        writer.writerow(fields)\n",
    "        for data in data_list:\n",
    "            writer.writerow(data)"
   ]
  },
  {
   "cell_type": "code",
   "execution_count": 9,
   "metadata": {},
   "outputs": [],
   "source": [
    "def find_Computer(url, headers):\n",
    "    r = download(url, headers=headers)\n",
    "    #print(r)\n",
    "    page = BeautifulSoup(r, \"lxml\")\n",
    "    #print(page.prettify())\n",
    "   \n",
    "    all_items = page.find_all('li', attrs={'class':'gl-item'})\n",
    "    data_list = []\n",
    "    \n",
    "    for all in all_items:\n",
    "        Computer_id = all[\"data-sku\"]\n",
    "        Computer_name = all.find('div', attrs={'class': 'p-name p-name-type-2'}).find('em').text\n",
    "        _price = all.find('div', attrs={'class': 'p-price'}).find('strong')\n",
    "        Computer_price = _price.get('data-price', _price.find('i').text)\n",
    "\n",
    "        # 取每台電腦的Json數據(包含 評價等等信息)\n",
    "        Comment = f\"https://club.jd.com/comment/productCommentSummaries.action?referenceIds={Computer_id}\"\n",
    "        comment_count, good_rate = get_json(Comment)\n",
    "\n",
    "        #print(f\"ID：{Computer_id}\")\n",
    "        #print(f\"Name：{Computer_name}\")\n",
    "        #print(f\"Price：{Computer_price}元\")\n",
    "        #print(f\"Comment#：\", comment_count)\n",
    "        #print(f\"Good Ratio：{good_rate}\\n\")\n",
    "        row = []\n",
    "        row.append(Computer_id)\n",
    "        row.append(Computer_name)\n",
    "        row.append(str(Computer_price))\n",
    "        row.append(comment_count)\n",
    "        row.append(good_rate)\n",
    "        data_list.append(row)\n",
    "    return data_list"
   ]
  },
  {
   "cell_type": "code",
   "execution_count": 10,
   "metadata": {},
   "outputs": [],
   "source": [
    "def main(page_end):\n",
    "    headers = {\n",
    "    'User-agent': \"Mozilla/5.0 (Windows NT 10.0; Win64; x64) AppleWebKit/537.36 (KHTML, like Gecko) Chrome/80.0.3987.87 Safari/537.36\",\n",
    "    \"referer\": \"https://search.jd.com\"\n",
    "    }\n",
    "    all_list = []\n",
    "    \n",
    "    for page in range(1,page_end*2+1,2):\n",
    "        URL = f\"https://search.jd.com/Search?keyword=lenovo&enc=utf-8&qrst=1&rt=1&stop=1&vt=2&bs=1&wq=lenovo&ev=exbrand_%E8%81%94%E6%83%B3%EF%BC%88Lenovo%EF%BC%89%5E&page={page}&s=1&click=0\"\n",
    "        data_list = find_Computer(URL, headers=headers)\n",
    "        all_list += data_list\n",
    "        write_csv(\"leovo.csv\", all_list)"
   ]
  },
  {
   "cell_type": "code",
   "execution_count": 11,
   "metadata": {},
   "outputs": [
    {
     "name": "stdout",
     "output_type": "stream",
     "text": [
      "download https://search.jd.com/Search?keyword=lenovo&enc=utf-8&qrst=1&rt=1&stop=1&vt=2&bs=1&wq=lenovo&ev=exbrand_%E8%81%94%E6%83%B3%EF%BC%88Lenovo%EF%BC%89%5E&page=1&s=1&click=0\n",
      "200\n",
      "download https://search.jd.com/Search?keyword=lenovo&enc=utf-8&qrst=1&rt=1&stop=1&vt=2&bs=1&wq=lenovo&ev=exbrand_%E8%81%94%E6%83%B3%EF%BC%88Lenovo%EF%BC%89%5E&page=3&s=1&click=0\n",
      "200\n",
      "download https://search.jd.com/Search?keyword=lenovo&enc=utf-8&qrst=1&rt=1&stop=1&vt=2&bs=1&wq=lenovo&ev=exbrand_%E8%81%94%E6%83%B3%EF%BC%88Lenovo%EF%BC%89%5E&page=5&s=1&click=0\n",
      "200\n",
      "download https://search.jd.com/Search?keyword=lenovo&enc=utf-8&qrst=1&rt=1&stop=1&vt=2&bs=1&wq=lenovo&ev=exbrand_%E8%81%94%E6%83%B3%EF%BC%88Lenovo%EF%BC%89%5E&page=7&s=1&click=0\n",
      "200\n",
      "download https://search.jd.com/Search?keyword=lenovo&enc=utf-8&qrst=1&rt=1&stop=1&vt=2&bs=1&wq=lenovo&ev=exbrand_%E8%81%94%E6%83%B3%EF%BC%88Lenovo%EF%BC%89%5E&page=9&s=1&click=0\n",
      "200\n",
      "download https://search.jd.com/Search?keyword=lenovo&enc=utf-8&qrst=1&rt=1&stop=1&vt=2&bs=1&wq=lenovo&ev=exbrand_%E8%81%94%E6%83%B3%EF%BC%88Lenovo%EF%BC%89%5E&page=11&s=1&click=0\n",
      "200\n",
      "download https://search.jd.com/Search?keyword=lenovo&enc=utf-8&qrst=1&rt=1&stop=1&vt=2&bs=1&wq=lenovo&ev=exbrand_%E8%81%94%E6%83%B3%EF%BC%88Lenovo%EF%BC%89%5E&page=13&s=1&click=0\n",
      "200\n",
      "download https://search.jd.com/Search?keyword=lenovo&enc=utf-8&qrst=1&rt=1&stop=1&vt=2&bs=1&wq=lenovo&ev=exbrand_%E8%81%94%E6%83%B3%EF%BC%88Lenovo%EF%BC%89%5E&page=15&s=1&click=0\n",
      "200\n",
      "download https://search.jd.com/Search?keyword=lenovo&enc=utf-8&qrst=1&rt=1&stop=1&vt=2&bs=1&wq=lenovo&ev=exbrand_%E8%81%94%E6%83%B3%EF%BC%88Lenovo%EF%BC%89%5E&page=17&s=1&click=0\n",
      "200\n",
      "download https://search.jd.com/Search?keyword=lenovo&enc=utf-8&qrst=1&rt=1&stop=1&vt=2&bs=1&wq=lenovo&ev=exbrand_%E8%81%94%E6%83%B3%EF%BC%88Lenovo%EF%BC%89%5E&page=19&s=1&click=0\n",
      "200\n",
      "\n",
      "DONE\n",
      "\n"
     ]
    }
   ],
   "source": [
    "if __name__ == '__main__':\n",
    "    main(10)\n",
    "    print(\"\\nDONE\\n\")"
   ]
  }
 ],
 "metadata": {
  "kernelspec": {
   "display_name": "Python 3",
   "language": "python",
   "name": "python3"
  },
  "language_info": {
   "codemirror_mode": {
    "name": "ipython",
    "version": 3
   },
   "file_extension": ".py",
   "mimetype": "text/x-python",
   "name": "python",
   "nbconvert_exporter": "python",
   "pygments_lexer": "ipython3",
   "version": "3.7.4"
  }
 },
 "nbformat": 4,
 "nbformat_minor": 2
}
